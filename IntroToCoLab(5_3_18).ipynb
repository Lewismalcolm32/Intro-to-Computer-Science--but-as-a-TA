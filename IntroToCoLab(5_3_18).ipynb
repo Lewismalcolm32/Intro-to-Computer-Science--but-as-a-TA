{
  "nbformat": 4,
  "nbformat_minor": 0,
  "metadata": {
    "colab": {
      "name": "IntroToCoLab(5/3/18).ipynb",
      "version": "0.3.2",
      "provenance": [],
      "include_colab_link": true
    },
    "kernelspec": {
      "name": "python3",
      "display_name": "Python 3"
    }
  },
  "cells": [
    {
      "cell_type": "markdown",
      "metadata": {
        "id": "view-in-github",
        "colab_type": "text"
      },
      "source": [
        "<a href=\"https://colab.research.google.com/github/Lewismalcolm32/Intro-to-Computer-Science--but-as-a-TA/blob/master/IntroToCoLab(5_3_18).ipynb\" target=\"_parent\"><img src=\"https://colab.research.google.com/assets/colab-badge.svg\" alt=\"Open In Colab\"/></a>"
      ]
    },
    {
      "cell_type": "code",
      "metadata": {
        "id": "tXWIGS0kF9hm",
        "colab_type": "code",
        "colab": {}
      },
      "source": [
        "url = 'http://bit.ly/311_data'\n",
        "\n",
        "\n",
        "\n",
        "\n"
      ],
      "execution_count": 0,
      "outputs": []
    },
    {
      "cell_type": "code",
      "metadata": {
        "id": "moAEuxqYHJqO",
        "colab_type": "code",
        "colab": {}
      },
      "source": [
        "%matplotlib inline\n",
        "import pandas as pd\n",
        "import matplotlib.pyplot as plt"
      ],
      "execution_count": 0,
      "outputs": []
    },
    {
      "cell_type": "code",
      "metadata": {
        "id": "NphGC8zXHVc3",
        "colab_type": "code",
        "outputId": "5f1468f3-6db4-455e-dad0-c180bb01eece",
        "colab": {
          "base_uri": "https://localhost:8080/",
          "height": 71
        }
      },
      "source": [
        "complaints = pd.read_csv(url)"
      ],
      "execution_count": 0,
      "outputs": [
        {
          "output_type": "stream",
          "text": [
            "/usr/local/lib/python3.6/dist-packages/IPython/core/interactiveshell.py:2718: DtypeWarning: Columns (8) have mixed types. Specify dtype option on import or set low_memory=False.\n",
            "  interactivity=interactivity, compiler=compiler, result=result)\n"
          ],
          "name": "stderr"
        }
      ]
    },
    {
      "cell_type": "code",
      "metadata": {
        "id": "kRWr29BgHhOo",
        "colab_type": "code",
        "outputId": "e162ba4e-c9f7-410c-f178-0fff0d4c7f58",
        "colab": {
          "base_uri": "https://localhost:8080/",
          "height": 327
        }
      },
      "source": [
        "complaints[:3]"
      ],
      "execution_count": 0,
      "outputs": [
        {
          "output_type": "execute_result",
          "data": {
            "text/html": [
              "<div>\n",
              "<style scoped>\n",
              "    .dataframe tbody tr th:only-of-type {\n",
              "        vertical-align: middle;\n",
              "    }\n",
              "\n",
              "    .dataframe tbody tr th {\n",
              "        vertical-align: top;\n",
              "    }\n",
              "\n",
              "    .dataframe thead th {\n",
              "        text-align: right;\n",
              "    }\n",
              "</style>\n",
              "<table border=\"1\" class=\"dataframe\">\n",
              "  <thead>\n",
              "    <tr style=\"text-align: right;\">\n",
              "      <th></th>\n",
              "      <th>Unique Key</th>\n",
              "      <th>Created Date</th>\n",
              "      <th>Closed Date</th>\n",
              "      <th>Agency</th>\n",
              "      <th>Agency Name</th>\n",
              "      <th>Complaint Type</th>\n",
              "      <th>Descriptor</th>\n",
              "      <th>Location Type</th>\n",
              "      <th>Incident Zip</th>\n",
              "      <th>Incident Address</th>\n",
              "      <th>...</th>\n",
              "      <th>Bridge Highway Name</th>\n",
              "      <th>Bridge Highway Direction</th>\n",
              "      <th>Road Ramp</th>\n",
              "      <th>Bridge Highway Segment</th>\n",
              "      <th>Garage Lot Name</th>\n",
              "      <th>Ferry Direction</th>\n",
              "      <th>Ferry Terminal Name</th>\n",
              "      <th>Latitude</th>\n",
              "      <th>Longitude</th>\n",
              "      <th>Location</th>\n",
              "    </tr>\n",
              "  </thead>\n",
              "  <tbody>\n",
              "    <tr>\n",
              "      <th>0</th>\n",
              "      <td>26589651</td>\n",
              "      <td>10/31/2013 02:08:41 AM</td>\n",
              "      <td>NaN</td>\n",
              "      <td>NYPD</td>\n",
              "      <td>New York City Police Department</td>\n",
              "      <td>Noise - Street/Sidewalk</td>\n",
              "      <td>Loud Talking</td>\n",
              "      <td>Street/Sidewalk</td>\n",
              "      <td>11432</td>\n",
              "      <td>90-03 169 STREET</td>\n",
              "      <td>...</td>\n",
              "      <td>NaN</td>\n",
              "      <td>NaN</td>\n",
              "      <td>NaN</td>\n",
              "      <td>NaN</td>\n",
              "      <td>NaN</td>\n",
              "      <td>NaN</td>\n",
              "      <td>NaN</td>\n",
              "      <td>40.708275</td>\n",
              "      <td>-73.791604</td>\n",
              "      <td>(40.70827532593202, -73.79160395779721)</td>\n",
              "    </tr>\n",
              "    <tr>\n",
              "      <th>1</th>\n",
              "      <td>26593698</td>\n",
              "      <td>10/31/2013 02:01:04 AM</td>\n",
              "      <td>NaN</td>\n",
              "      <td>NYPD</td>\n",
              "      <td>New York City Police Department</td>\n",
              "      <td>Illegal Parking</td>\n",
              "      <td>Commercial Overnight Parking</td>\n",
              "      <td>Street/Sidewalk</td>\n",
              "      <td>11378</td>\n",
              "      <td>58 AVENUE</td>\n",
              "      <td>...</td>\n",
              "      <td>NaN</td>\n",
              "      <td>NaN</td>\n",
              "      <td>NaN</td>\n",
              "      <td>NaN</td>\n",
              "      <td>NaN</td>\n",
              "      <td>NaN</td>\n",
              "      <td>NaN</td>\n",
              "      <td>40.721041</td>\n",
              "      <td>-73.909453</td>\n",
              "      <td>(40.721040535628305, -73.90945306791765)</td>\n",
              "    </tr>\n",
              "    <tr>\n",
              "      <th>2</th>\n",
              "      <td>26594139</td>\n",
              "      <td>10/31/2013 02:00:24 AM</td>\n",
              "      <td>10/31/2013 02:40:32 AM</td>\n",
              "      <td>NYPD</td>\n",
              "      <td>New York City Police Department</td>\n",
              "      <td>Noise - Commercial</td>\n",
              "      <td>Loud Music/Party</td>\n",
              "      <td>Club/Bar/Restaurant</td>\n",
              "      <td>10032</td>\n",
              "      <td>4060 BROADWAY</td>\n",
              "      <td>...</td>\n",
              "      <td>NaN</td>\n",
              "      <td>NaN</td>\n",
              "      <td>NaN</td>\n",
              "      <td>NaN</td>\n",
              "      <td>NaN</td>\n",
              "      <td>NaN</td>\n",
              "      <td>NaN</td>\n",
              "      <td>40.843330</td>\n",
              "      <td>-73.939144</td>\n",
              "      <td>(40.84332975466513, -73.93914371913482)</td>\n",
              "    </tr>\n",
              "  </tbody>\n",
              "</table>\n",
              "<p>3 rows × 52 columns</p>\n",
              "</div>"
            ],
            "text/plain": [
              "   Unique Key            Created Date             Closed Date Agency  \\\n",
              "0    26589651  10/31/2013 02:08:41 AM                     NaN   NYPD   \n",
              "1    26593698  10/31/2013 02:01:04 AM                     NaN   NYPD   \n",
              "2    26594139  10/31/2013 02:00:24 AM  10/31/2013 02:40:32 AM   NYPD   \n",
              "\n",
              "                       Agency Name           Complaint Type  \\\n",
              "0  New York City Police Department  Noise - Street/Sidewalk   \n",
              "1  New York City Police Department          Illegal Parking   \n",
              "2  New York City Police Department       Noise - Commercial   \n",
              "\n",
              "                     Descriptor        Location Type Incident Zip  \\\n",
              "0                  Loud Talking      Street/Sidewalk        11432   \n",
              "1  Commercial Overnight Parking      Street/Sidewalk        11378   \n",
              "2              Loud Music/Party  Club/Bar/Restaurant        10032   \n",
              "\n",
              "   Incident Address  ... Bridge Highway Name Bridge Highway Direction  \\\n",
              "0  90-03 169 STREET  ...                 NaN                      NaN   \n",
              "1         58 AVENUE  ...                 NaN                      NaN   \n",
              "2     4060 BROADWAY  ...                 NaN                      NaN   \n",
              "\n",
              "  Road Ramp Bridge Highway Segment Garage Lot Name Ferry Direction  \\\n",
              "0       NaN                    NaN             NaN             NaN   \n",
              "1       NaN                    NaN             NaN             NaN   \n",
              "2       NaN                    NaN             NaN             NaN   \n",
              "\n",
              "  Ferry Terminal Name   Latitude  Longitude  \\\n",
              "0                 NaN  40.708275 -73.791604   \n",
              "1                 NaN  40.721041 -73.909453   \n",
              "2                 NaN  40.843330 -73.939144   \n",
              "\n",
              "                                   Location  \n",
              "0   (40.70827532593202, -73.79160395779721)  \n",
              "1  (40.721040535628305, -73.90945306791765)  \n",
              "2   (40.84332975466513, -73.93914371913482)  \n",
              "\n",
              "[3 rows x 52 columns]"
            ]
          },
          "metadata": {
            "tags": []
          },
          "execution_count": 8
        }
      ]
    },
    {
      "cell_type": "code",
      "metadata": {
        "id": "CZT7OWP3IAt-",
        "colab_type": "code",
        "outputId": "89f3a027-ec90-4cec-f414-0144377f24c0",
        "colab": {
          "base_uri": "https://localhost:8080/",
          "height": 986
        }
      },
      "source": [
        "complaints.info()\n"
      ],
      "execution_count": 0,
      "outputs": [
        {
          "output_type": "stream",
          "text": [
            "<class 'pandas.core.frame.DataFrame'>\n",
            "RangeIndex: 111069 entries, 0 to 111068\n",
            "Data columns (total 52 columns):\n",
            "Unique Key                        111069 non-null int64\n",
            "Created Date                      111069 non-null object\n",
            "Closed Date                       60270 non-null object\n",
            "Agency                            111069 non-null object\n",
            "Agency Name                       111069 non-null object\n",
            "Complaint Type                    111069 non-null object\n",
            "Descriptor                        110613 non-null object\n",
            "Location Type                     79022 non-null object\n",
            "Incident Zip                      98807 non-null object\n",
            "Incident Address                  84441 non-null object\n",
            "Street Name                       84432 non-null object\n",
            "Cross Street 1                    84728 non-null object\n",
            "Cross Street 2                    84005 non-null object\n",
            "Intersection Street 1             19364 non-null object\n",
            "Intersection Street 2             19366 non-null object\n",
            "Address Type                      102247 non-null object\n",
            "City                              98854 non-null object\n",
            "Landmark                          95 non-null object\n",
            "Facility Type                     19104 non-null object\n",
            "Status                            111069 non-null object\n",
            "Due Date                          39239 non-null object\n",
            "Resolution Action Updated Date    96507 non-null object\n",
            "Community Board                   111069 non-null object\n",
            "Borough                           111069 non-null object\n",
            "X Coordinate (State Plane)        98143 non-null float64\n",
            "Y Coordinate (State Plane)        98143 non-null float64\n",
            "Park Facility Name                111069 non-null object\n",
            "Park Borough                      111069 non-null object\n",
            "School Name                       111069 non-null object\n",
            "School Number                     111048 non-null object\n",
            "School Region                     110524 non-null object\n",
            "School Code                       110524 non-null object\n",
            "School Phone Number               111069 non-null object\n",
            "School Address                    111069 non-null object\n",
            "School City                       111069 non-null object\n",
            "School State                      111069 non-null object\n",
            "School Zip                        111069 non-null object\n",
            "School Not Found                  38984 non-null object\n",
            "School or Citywide Complaint      0 non-null float64\n",
            "Vehicle Type                      99 non-null object\n",
            "Taxi Company Borough              117 non-null object\n",
            "Taxi Pick Up Location             1059 non-null object\n",
            "Bridge Highway Name               185 non-null object\n",
            "Bridge Highway Direction          185 non-null object\n",
            "Road Ramp                         180 non-null object\n",
            "Bridge Highway Segment            219 non-null object\n",
            "Garage Lot Name                   49 non-null object\n",
            "Ferry Direction                   24 non-null object\n",
            "Ferry Terminal Name               70 non-null object\n",
            "Latitude                          98143 non-null float64\n",
            "Longitude                         98143 non-null float64\n",
            "Location                          98143 non-null object\n",
            "dtypes: float64(5), int64(1), object(46)\n",
            "memory usage: 44.1+ MB\n"
          ],
          "name": "stdout"
        }
      ]
    },
    {
      "cell_type": "code",
      "metadata": {
        "id": "Udp1yzi8ImuC",
        "colab_type": "code",
        "outputId": "e54d6126-b6dc-4102-a2bc-55544ecfa28a",
        "colab": {
          "base_uri": "https://localhost:8080/",
          "height": 1071
        }
      },
      "source": [
        "complaints['Complaint Type'] "
      ],
      "execution_count": 0,
      "outputs": [
        {
          "output_type": "execute_result",
          "data": {
            "text/plain": [
              "0          Noise - Street/Sidewalk\n",
              "1                  Illegal Parking\n",
              "2               Noise - Commercial\n",
              "3                  Noise - Vehicle\n",
              "4                           Rodent\n",
              "5               Noise - Commercial\n",
              "6                 Blocked Driveway\n",
              "7               Noise - Commercial\n",
              "8               Noise - Commercial\n",
              "9               Noise - Commercial\n",
              "10        Noise - House of Worship\n",
              "11              Noise - Commercial\n",
              "12                 Illegal Parking\n",
              "13                 Noise - Vehicle\n",
              "14                          Rodent\n",
              "15        Noise - House of Worship\n",
              "16         Noise - Street/Sidewalk\n",
              "17                 Illegal Parking\n",
              "18          Street Light Condition\n",
              "19              Noise - Commercial\n",
              "20        Noise - House of Worship\n",
              "21              Noise - Commercial\n",
              "22                 Noise - Vehicle\n",
              "23              Noise - Commercial\n",
              "24                Blocked Driveway\n",
              "25         Noise - Street/Sidewalk\n",
              "26          Street Light Condition\n",
              "27            Harboring Bees/Wasps\n",
              "28         Noise - Street/Sidewalk\n",
              "29          Street Light Condition\n",
              "                    ...           \n",
              "111039          Noise - Commercial\n",
              "111040          Noise - Commercial\n",
              "111041                       Noise\n",
              "111042     Noise - Street/Sidewalk\n",
              "111043          Noise - Commercial\n",
              "111044     Noise - Street/Sidewalk\n",
              "111045                Water System\n",
              "111046                       Noise\n",
              "111047             Illegal Parking\n",
              "111048     Noise - Street/Sidewalk\n",
              "111049          Noise - Commercial\n",
              "111050                       Noise\n",
              "111051          Noise - Commercial\n",
              "111052                Water System\n",
              "111053           Derelict Vehicles\n",
              "111054     Noise - Street/Sidewalk\n",
              "111055          Noise - Commercial\n",
              "111056       Street Sign - Missing\n",
              "111057                       Noise\n",
              "111058          Noise - Commercial\n",
              "111059     Noise - Street/Sidewalk\n",
              "111060                       Noise\n",
              "111061          Noise - Commercial\n",
              "111062                Water System\n",
              "111063                Water System\n",
              "111064     Maintenance or Facility\n",
              "111065             Illegal Parking\n",
              "111066     Noise - Street/Sidewalk\n",
              "111067          Noise - Commercial\n",
              "111068            Blocked Driveway\n",
              "Name: Complaint Type, Length: 111069, dtype: object"
            ]
          },
          "metadata": {
            "tags": []
          },
          "execution_count": 10
        }
      ]
    },
    {
      "cell_type": "code",
      "metadata": {
        "id": "FiqzJXEPJBV5",
        "colab_type": "code",
        "outputId": "6b283f08-eed0-41a4-d18a-c2df378475d4",
        "colab": {
          "base_uri": "https://localhost:8080/",
          "height": 119
        }
      },
      "source": [
        "complaints['Complaint Type'][:5]"
      ],
      "execution_count": 0,
      "outputs": [
        {
          "output_type": "execute_result",
          "data": {
            "text/plain": [
              "0    Noise - Street/Sidewalk\n",
              "1            Illegal Parking\n",
              "2         Noise - Commercial\n",
              "3            Noise - Vehicle\n",
              "4                     Rodent\n",
              "Name: Complaint Type, dtype: object"
            ]
          },
          "metadata": {
            "tags": []
          },
          "execution_count": 12
        }
      ]
    },
    {
      "cell_type": "code",
      "metadata": {
        "id": "MOiWoK5GJZdy",
        "colab_type": "code",
        "outputId": "e6139b04-e573-42f1-8527-c96f13786a32",
        "colab": {
          "base_uri": "https://localhost:8080/",
          "height": 1071
        }
      },
      "source": [
        "complaints['Complaint Type'].value_counts()"
      ],
      "execution_count": 0,
      "outputs": [
        {
          "output_type": "execute_result",
          "data": {
            "text/plain": [
              "HEATING                                 14200\n",
              "GENERAL CONSTRUCTION                     7471\n",
              "Street Light Condition                   7117\n",
              "DOF Literature Request                   5797\n",
              "PLUMBING                                 5373\n",
              "PAINT - PLASTER                          5149\n",
              "Blocked Driveway                         4590\n",
              "NONCONST                                 3998\n",
              "Street Condition                         3473\n",
              "Illegal Parking                          3343\n",
              "Noise                                    3321\n",
              "Traffic Signal Condition                 3145\n",
              "Dirty Conditions                         2653\n",
              "Water System                             2636\n",
              "Noise - Commercial                       2578\n",
              "ELECTRIC                                 2350\n",
              "Broken Muni Meter                        2070\n",
              "Noise - Street/Sidewalk                  1928\n",
              "Sanitation Condition                     1824\n",
              "Rodent                                   1632\n",
              "Sewer                                    1627\n",
              "Taxi Complaint                           1227\n",
              "Consumer Complaint                       1227\n",
              "Damaged Tree                             1180\n",
              "Overgrown Tree/Branches                  1083\n",
              "Graffiti                                  973\n",
              "Missed Collection (All Materials)         973\n",
              "Building/Use                              942\n",
              "Root/Sewer/Sidewalk Condition             836\n",
              "Derelict Vehicle                          803\n",
              "                                        ...  \n",
              "Fire Alarm - Modification                   5\n",
              "Posting Advertisement                       5\n",
              "Miscellaneous Categories                    5\n",
              "Poison Ivy                                  5\n",
              "Internal Code                               5\n",
              "Transportation Provider Complaint           4\n",
              "Illegal Animal Sold                         4\n",
              "Special Natural Area District (SNAD)        4\n",
              "Ferry Complaint                             4\n",
              "Fire Alarm - Replacement                    3\n",
              "Adopt-A-Basket                              3\n",
              "Illegal Fireworks                           3\n",
              "Invitation                                  3\n",
              "Misc. Comments                              2\n",
              "Legal Services Provider Complaint           2\n",
              "DFTA Literature Request                     2\n",
              "Opinion for the Mayor                       2\n",
              "Public Assembly                             2\n",
              "Window Guard                                2\n",
              "Tunnel Condition                            1\n",
              "Ferry Permit                                1\n",
              "DHS Income Savings Requirement              1\n",
              "DWD                                         1\n",
              "Open Flame Permit                           1\n",
              "Highway Sign - Damaged                      1\n",
              "Municipal Parking Facility                  1\n",
              "Stalled Sites                               1\n",
              "X-Ray Machine/Equipment                     1\n",
              "Trans Fat                                   1\n",
              "Snow                                        1\n",
              "Name: Complaint Type, Length: 165, dtype: int64"
            ]
          },
          "metadata": {
            "tags": []
          },
          "execution_count": 13
        }
      ]
    },
    {
      "cell_type": "code",
      "metadata": {
        "id": "AI-_niiTJl3h",
        "colab_type": "code",
        "outputId": "3991f5ca-37ae-483d-eb23-cc48ca04f723",
        "colab": {
          "base_uri": "https://localhost:8080/",
          "height": 406
        }
      },
      "source": [
        "complaints['Complaint Type'].value_counts()[:10].plot(kind='bar')"
      ],
      "execution_count": 0,
      "outputs": [
        {
          "output_type": "execute_result",
          "data": {
            "text/plain": [
              "<matplotlib.axes._subplots.AxesSubplot at 0x7ff75c0bcfd0>"
            ]
          },
          "metadata": {
            "tags": []
          },
          "execution_count": 14
        },
        {
          "output_type": "display_data",
          "data": {
            "image/png": "[encoded data removed]",
            "text/plain": [
              "<Figure size 432x288 with 1 Axes>"
            ]
          },
          "metadata": {
            "tags": []
          }
        }
      ]
    },
    {
      "cell_type": "code",
      "metadata": {
        "id": "nzDWTrkpJ8e3",
        "colab_type": "code",
        "outputId": "ee245761-7003-41d3-a9a7-1da3d8ff3902",
        "colab": {
          "base_uri": "https://localhost:8080/",
          "height": 499
        }
      },
      "source": [
        "complaints['Complaint Type'].value_counts()[:100].plot(kind='bar')"
      ],
      "execution_count": 0,
      "outputs": [
        {
          "output_type": "execute_result",
          "data": {
            "text/plain": [
              "<matplotlib.axes._subplots.AxesSubplot at 0x7ff75bfcb860>"
            ]
          },
          "metadata": {
            "tags": []
          },
          "execution_count": 15
        },
        {
          "output_type": "display_data",
          "data": {
            "image/png": "[encoded data removed]",
            "text/plain": [
              "<Figure size 432x288 with 1 Axes>"
            ]
          },
          "metadata": {
            "tags": []
          }
        }
      ]
    },
    {
      "cell_type": "code",
      "metadata": {
        "id": "gBGD1PS4KJL-",
        "colab_type": "code",
        "outputId": "b3815b2e-ff01-449a-edda-5e0997c8f42d",
        "colab": {
          "base_uri": "https://localhost:8080/",
          "height": 286
        }
      },
      "source": [
        "complaints['Complaint Type'].value_counts()[:10].plot()"
      ],
      "execution_count": 0,
      "outputs": [
        {
          "output_type": "execute_result",
          "data": {
            "text/plain": [
              "<matplotlib.axes._subplots.AxesSubplot at 0x7ff75959a9e8>"
            ]
          },
          "metadata": {
            "tags": []
          },
          "execution_count": 16
        },
        {
          "output_type": "display_data",
          "data": {
            "image/png": "[encoded data removed]",
            "text/plain": [
              "<Figure size 432x288 with 1 Axes>"
            ]
          },
          "metadata": {
            "tags": []
          }
        }
      ]
    },
    {
      "cell_type": "code",
      "metadata": {
        "id": "MKBr24azKQcB",
        "colab_type": "code",
        "outputId": "2ad4402a-55ba-45c6-f0f4-215df409fbb1",
        "colab": {
          "base_uri": "https://localhost:8080/",
          "height": 272
        }
      },
      "source": [
        "complaints['Complaint Type'].value_counts()[:10].plot(kind ='pie' )"
      ],
      "execution_count": 0,
      "outputs": [
        {
          "output_type": "execute_result",
          "data": {
            "text/plain": [
              "<matplotlib.axes._subplots.AxesSubplot at 0x7ff757c82518>"
            ]
          },
          "metadata": {
            "tags": []
          },
          "execution_count": 17
        },
        {
          "output_type": "display_data",
          "data": {
            "image/png": "[encoded data removed]",
            "text/plain": [
              "<Figure size 432x288 with 1 Axes>"
            ]
          },
          "metadata": {
            "tags": []
          }
        }
      ]
    },
    {
      "cell_type": "code",
      "metadata": {
        "id": "VBMfCVNsKamf",
        "colab_type": "code",
        "outputId": "4dd98a94-77a5-49d1-ae7e-2ceaf4506631",
        "colab": {
          "base_uri": "https://localhost:8080/",
          "height": 395
        }
      },
      "source": [
        "rat_complaint = complaints[complaints['Complaint Type'] == 'Rodent']\n",
        "rat_complaint[:3]"
      ],
      "execution_count": 0,
      "outputs": [
        {
          "output_type": "execute_result",
          "data": {
            "text/html": [
              "<div>\n",
              "<style scoped>\n",
              "    .dataframe tbody tr th:only-of-type {\n",
              "        vertical-align: middle;\n",
              "    }\n",
              "\n",
              "    .dataframe tbody tr th {\n",
              "        vertical-align: top;\n",
              "    }\n",
              "\n",
              "    .dataframe thead th {\n",
              "        text-align: right;\n",
              "    }\n",
              "</style>\n",
              "<table border=\"1\" class=\"dataframe\">\n",
              "  <thead>\n",
              "    <tr style=\"text-align: right;\">\n",
              "      <th></th>\n",
              "      <th>Unique Key</th>\n",
              "      <th>Created Date</th>\n",
              "      <th>Closed Date</th>\n",
              "      <th>Agency</th>\n",
              "      <th>Agency Name</th>\n",
              "      <th>Complaint Type</th>\n",
              "      <th>Descriptor</th>\n",
              "      <th>Location Type</th>\n",
              "      <th>Incident Zip</th>\n",
              "      <th>Incident Address</th>\n",
              "      <th>...</th>\n",
              "      <th>Bridge Highway Name</th>\n",
              "      <th>Bridge Highway Direction</th>\n",
              "      <th>Road Ramp</th>\n",
              "      <th>Bridge Highway Segment</th>\n",
              "      <th>Garage Lot Name</th>\n",
              "      <th>Ferry Direction</th>\n",
              "      <th>Ferry Terminal Name</th>\n",
              "      <th>Latitude</th>\n",
              "      <th>Longitude</th>\n",
              "      <th>Location</th>\n",
              "    </tr>\n",
              "  </thead>\n",
              "  <tbody>\n",
              "    <tr>\n",
              "      <th>4</th>\n",
              "      <td>26590930</td>\n",
              "      <td>10/31/2013 01:53:44 AM</td>\n",
              "      <td>NaN</td>\n",
              "      <td>DOHMH</td>\n",
              "      <td>Department of Health and Mental Hygiene</td>\n",
              "      <td>Rodent</td>\n",
              "      <td>Condition Attracting Rodents</td>\n",
              "      <td>Vacant Lot</td>\n",
              "      <td>10027</td>\n",
              "      <td>WEST 124 STREET</td>\n",
              "      <td>...</td>\n",
              "      <td>NaN</td>\n",
              "      <td>NaN</td>\n",
              "      <td>NaN</td>\n",
              "      <td>NaN</td>\n",
              "      <td>NaN</td>\n",
              "      <td>NaN</td>\n",
              "      <td>NaN</td>\n",
              "      <td>40.807691</td>\n",
              "      <td>-73.947387</td>\n",
              "      <td>(40.80769092704951, -73.94738703491433)</td>\n",
              "    </tr>\n",
              "    <tr>\n",
              "      <th>14</th>\n",
              "      <td>26590917</td>\n",
              "      <td>10/31/2013 01:19:54 AM</td>\n",
              "      <td>NaN</td>\n",
              "      <td>DOHMH</td>\n",
              "      <td>Department of Health and Mental Hygiene</td>\n",
              "      <td>Rodent</td>\n",
              "      <td>Rat Sighting</td>\n",
              "      <td>1-2 Family Mixed Use Building</td>\n",
              "      <td>11219</td>\n",
              "      <td>63 STREET</td>\n",
              "      <td>...</td>\n",
              "      <td>NaN</td>\n",
              "      <td>NaN</td>\n",
              "      <td>NaN</td>\n",
              "      <td>NaN</td>\n",
              "      <td>NaN</td>\n",
              "      <td>NaN</td>\n",
              "      <td>NaN</td>\n",
              "      <td>40.626477</td>\n",
              "      <td>-73.999218</td>\n",
              "      <td>(40.6264774690411, -73.99921826202639)</td>\n",
              "    </tr>\n",
              "    <tr>\n",
              "      <th>104</th>\n",
              "      <td>26593903</td>\n",
              "      <td>10/30/2013 11:30:37 PM</td>\n",
              "      <td>NaN</td>\n",
              "      <td>DOHMH</td>\n",
              "      <td>Department of Health and Mental Hygiene</td>\n",
              "      <td>Rodent</td>\n",
              "      <td>Mouse Sighting</td>\n",
              "      <td>3+ Family Apt. Building</td>\n",
              "      <td>10065</td>\n",
              "      <td>210 EAST 67 STREET</td>\n",
              "      <td>...</td>\n",
              "      <td>NaN</td>\n",
              "      <td>NaN</td>\n",
              "      <td>NaN</td>\n",
              "      <td>NaN</td>\n",
              "      <td>NaN</td>\n",
              "      <td>NaN</td>\n",
              "      <td>NaN</td>\n",
              "      <td>40.766342</td>\n",
              "      <td>-73.962437</td>\n",
              "      <td>(40.76634192531301, -73.96243748655138)</td>\n",
              "    </tr>\n",
              "  </tbody>\n",
              "</table>\n",
              "<p>3 rows × 52 columns</p>\n",
              "</div>"
            ],
            "text/plain": [
              "     Unique Key            Created Date Closed Date Agency  \\\n",
              "4      26590930  10/31/2013 01:53:44 AM         NaN  DOHMH   \n",
              "14     26590917  10/31/2013 01:19:54 AM         NaN  DOHMH   \n",
              "104    26593903  10/30/2013 11:30:37 PM         NaN  DOHMH   \n",
              "\n",
              "                                 Agency Name Complaint Type  \\\n",
              "4    Department of Health and Mental Hygiene         Rodent   \n",
              "14   Department of Health and Mental Hygiene         Rodent   \n",
              "104  Department of Health and Mental Hygiene         Rodent   \n",
              "\n",
              "                       Descriptor                  Location Type Incident Zip  \\\n",
              "4    Condition Attracting Rodents                     Vacant Lot        10027   \n",
              "14                   Rat Sighting  1-2 Family Mixed Use Building        11219   \n",
              "104                Mouse Sighting        3+ Family Apt. Building        10065   \n",
              "\n",
              "       Incident Address  ... Bridge Highway Name Bridge Highway Direction  \\\n",
              "4       WEST 124 STREET  ...                 NaN                      NaN   \n",
              "14            63 STREET  ...                 NaN                      NaN   \n",
              "104  210 EAST 67 STREET  ...                 NaN                      NaN   \n",
              "\n",
              "    Road Ramp Bridge Highway Segment Garage Lot Name Ferry Direction  \\\n",
              "4         NaN                    NaN             NaN             NaN   \n",
              "14        NaN                    NaN             NaN             NaN   \n",
              "104       NaN                    NaN             NaN             NaN   \n",
              "\n",
              "    Ferry Terminal Name   Latitude  Longitude  \\\n",
              "4                   NaN  40.807691 -73.947387   \n",
              "14                  NaN  40.626477 -73.999218   \n",
              "104                 NaN  40.766342 -73.962437   \n",
              "\n",
              "                                    Location  \n",
              "4    (40.80769092704951, -73.94738703491433)  \n",
              "14    (40.6264774690411, -73.99921826202639)  \n",
              "104  (40.76634192531301, -73.96243748655138)  \n",
              "\n",
              "[3 rows x 52 columns]"
            ]
          },
          "metadata": {
            "tags": []
          },
          "execution_count": 22
        }
      ]
    },
    {
      "cell_type": "code",
      "metadata": {
        "id": "F9dRMrVlKvbx",
        "colab_type": "code",
        "colab": {}
      },
      "source": [
        ""
      ],
      "execution_count": 0,
      "outputs": []
    }
  ]
}